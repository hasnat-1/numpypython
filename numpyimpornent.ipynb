{
 "cells": [
  {
   "cell_type": "markdown",
   "metadata": {},
   "source": [
    "**Arrays:** NumPy arrays are the core data structure in NumPy. They are multi-dimensional, homogeneous data structures that can be used to represent a variety of data types, such as images, text, and sensor data.\n",
    "\n",
    "**Linear algebra:** NumPy provides a number of functions for performing linear algebra operations on arrays. These operations are essential for many machine learning algorithms, such as linear regression, logistic regression, and support vector machines.\n",
    "\n",
    "**Random number generation:** NumPy provides a variety of functions for generating random numbers. This is useful for initializing machine learning models and generating training data.\n",
    "\n",
    "**Statistics:** NumPy provides a number of statistical functions, such as mean, median, and standard deviation. These functions are useful for preprocessing data and evaluating machine learning models."
   ]
  },
  {
   "cell_type": "code",
   "execution_count": 1,
   "metadata": {},
   "outputs": [
    {
     "name": "stdout",
     "output_type": "stream",
     "text": [
      "[1 2 3 4 5]\n"
     ]
    }
   ],
   "source": [
    "import numpy as np\n",
    "\n",
    "# Create a NumPy array from a Python list\n",
    "array = np.array([1, 2, 3, 4, 5])\n",
    "\n",
    "# Print the array\n",
    "print(array)\n",
    "\n",
    "\n"
   ]
  },
  {
   "cell_type": "code",
   "execution_count": 2,
   "metadata": {},
   "outputs": [
    {
     "name": "stdout",
     "output_type": "stream",
     "text": [
      "(5,)\n",
      "int32\n"
     ]
    }
   ],
   "source": [
    "# Get the shape of the array\n",
    "print(array.shape)\n",
    "\n",
    "# Get the data type of the array\n",
    "print(array.dtype)\n",
    "\n"
   ]
  },
  {
   "cell_type": "code",
   "execution_count": 3,
   "metadata": {},
   "outputs": [
    {
     "name": "stdout",
     "output_type": "stream",
     "text": [
      "3\n",
      "[ 1  2 10  4  5]\n"
     ]
    }
   ],
   "source": [
    "# Access an element of the array\n",
    "print(array[2])\n",
    "\n",
    "# Modify an element of the array\n",
    "array[2] = 10\n",
    "\n",
    "# Print the array again\n",
    "print(array)"
   ]
  },
  {
   "cell_type": "markdown",
   "metadata": {},
   "source": [
    "**Ndim**"
   ]
  },
  {
   "cell_type": "code",
   "execution_count": 7,
   "metadata": {},
   "outputs": [
    {
     "name": "stdout",
     "output_type": "stream",
     "text": [
      "2\n"
     ]
    }
   ],
   "source": [
    "import numpy as np\n",
    "\n",
    "# Create a two-dimensional NumPy array\n",
    "array = np.array([[1, 2], [3, 4]])\n",
    "\n",
    "# Get the number of dimensions of the array\n",
    "ndim = array.ndim\n",
    "\n",
    "# Print the number of dimensions\n",
    "print(ndim)\n"
   ]
  },
  {
   "cell_type": "markdown",
   "metadata": {},
   "source": [
    "**np.reshape():** Reshapes a NumPy array to a new shape"
   ]
  },
  {
   "cell_type": "code",
   "execution_count": 35,
   "metadata": {},
   "outputs": [
    {
     "name": "stdout",
     "output_type": "stream",
     "text": [
      "[[1 2 3]\n",
      " [4 5 6]]\n"
     ]
    }
   ],
   "source": [
    "import numpy as np\n",
    "\n",
    "# Create a NumPy array\n",
    "array = np.array([1, 2, 3, 4, 5, 6])\n",
    "\n",
    "# Reshape the array to a new shape of (2, 3)\n",
    "reshaped_array = np.reshape(array, (2, 3))\n",
    "\n",
    "# Print the reshaped array\n",
    "print(reshaped_array)\n"
   ]
  },
  {
   "cell_type": "code",
   "execution_count": 11,
   "metadata": {},
   "outputs": [
    {
     "name": "stdout",
     "output_type": "stream",
     "text": [
      "[[1 2 3]\n",
      " [4 5 6]]\n"
     ]
    }
   ],
   "source": [
    "import numpy as np\n",
    "\n",
    "# Create a NumPy array\n",
    "array = np.array([1, 2, 3, 4, 5,6])\n",
    "\n",
    "# Reshape the array to a new shape of (2, 3)\n",
    "reshaped_array = np.reshape(array, (2, 3))\n",
    "\n",
    "# Print the reshaped array\n",
    "print(reshaped_array)\n"
   ]
  },
  {
   "cell_type": "markdown",
   "metadata": {},
   "source": [
    "**2d to 1d**"
   ]
  },
  {
   "cell_type": "code",
   "execution_count": 15,
   "metadata": {},
   "outputs": [
    {
     "name": "stdout",
     "output_type": "stream",
     "text": [
      "[1 2 3 4]\n"
     ]
    }
   ],
   "source": [
    "import numpy as np\n",
    "\n",
    "# Create a NumPy array\n",
    "array = np.array([[1, 2], [3, 4]])\n",
    "\n",
    "# Reshape the array to a one-dimensional array\n",
    "reshaped_array = np.reshape(array, (4,))\n",
    "\n",
    "# Print the reshaped array\n",
    "print(reshaped_array)\n"
   ]
  },
  {
   "cell_type": "markdown",
   "metadata": {},
   "source": [
    "**Ndim arrays can be used** to represent a variety of data types, such as **images**, **text** , and **sensor data**. For example, a two-dimensional ndim array could be used to represent an image, where the first dimension represents the width of the image and the second dimension represents the height of the image"
   ]
  },
  {
   "cell_type": "markdown",
   "metadata": {},
   "source": [
    "**np.dot()**: Performs the dot product of two NumPy arrays"
   ]
  },
  {
   "cell_type": "code",
   "execution_count": 16,
   "metadata": {},
   "outputs": [
    {
     "name": "stdout",
     "output_type": "stream",
     "text": [
      "32\n"
     ]
    }
   ],
   "source": [
    "import numpy as np\n",
    "\n",
    "# Create two NumPy arrays\n",
    "array1 = np.array([1, 2, 3])\n",
    "array2 = np.array([4, 5, 6])\n",
    "\n",
    "# Calculate the dot product of the two arrays\n",
    "dot_product = np.dot(array1, array2)\n",
    "\n",
    "# Print the dot product\n",
    "print(dot_product)\n"
   ]
  },
  {
   "cell_type": "code",
   "execution_count": 19,
   "metadata": {},
   "outputs": [
    {
     "name": "stdout",
     "output_type": "stream",
     "text": [
      "[[19 22]\n",
      " [43 50]]\n"
     ]
    }
   ],
   "source": [
    "import numpy as np\n",
    "\n",
    "# Create two NumPy arrays\n",
    "array1 = np.array([[1, 2], [3, 4]])\n",
    "array2 = np.array([[5, 6], [7, 8]])\n",
    "\n",
    "# Calculate the dot product of the two arrays\n",
    "dot_product = np.dot(array1, array2)\n",
    "\n",
    "# Print the dot product\n",
    "print(dot_product)\n"
   ]
  },
  {
   "cell_type": "markdown",
   "metadata": {},
   "source": [
    "**np.sum():** Calculates the sum of the elements in a NumPy array."
   ]
  },
  {
   "cell_type": "code",
   "execution_count": 20,
   "metadata": {},
   "outputs": [
    {
     "name": "stdout",
     "output_type": "stream",
     "text": [
      "15\n"
     ]
    }
   ],
   "source": [
    "import numpy as np\n",
    "\n",
    "# Create a NumPy array\n",
    "array = np.array([1, 2, 3, 4, 5])\n",
    "\n",
    "# Calculate the sum of the elements in the array\n",
    "sum = np.sum(array)\n",
    "\n",
    "# Print the sum\n",
    "print(sum)\n"
   ]
  },
  {
   "cell_type": "code",
   "execution_count": 23,
   "metadata": {},
   "outputs": [
    {
     "name": "stdout",
     "output_type": "stream",
     "text": [
      "[4 6]\n"
     ]
    }
   ],
   "source": [
    "import numpy as np\n",
    "\n",
    "# Create a NumPy array\n",
    "array = np.array([[1, 2], [3, 4]])\n",
    "\n",
    "# Calculate the sum of the elements in the first axis of the array\n",
    "sum = np.sum(array, axis=0)\n",
    "\n",
    "# Print the sum\n",
    "print(sum)\n"
   ]
  },
  {
   "cell_type": "markdown",
   "metadata": {},
   "source": [
    "**np.mean():** Calculates the mean of the elements in a NumPy array."
   ]
  },
  {
   "cell_type": "code",
   "execution_count": 24,
   "metadata": {},
   "outputs": [
    {
     "name": "stdout",
     "output_type": "stream",
     "text": [
      "3.0\n"
     ]
    }
   ],
   "source": [
    "import numpy as np\n",
    "\n",
    "# Create a NumPy array\n",
    "array = np.array([1, 2, 3, 4, 5])\n",
    "\n",
    "# Calculate the mean of the elements in the array\n",
    "mean = np.mean(array)\n",
    "\n",
    "# Print the mean\n",
    "print(mean)\n"
   ]
  },
  {
   "cell_type": "code",
   "execution_count": 25,
   "metadata": {},
   "outputs": [
    {
     "name": "stdout",
     "output_type": "stream",
     "text": [
      "[2. 3.]\n"
     ]
    }
   ],
   "source": [
    "import numpy as np\n",
    "\n",
    "# Create a NumPy array\n",
    "array = np.array([[1, 2], [3, 4]])\n",
    "\n",
    "# Calculate the mean of the elements in the first axis of the array\n",
    "mean = np.mean(array, axis=0)\n",
    "\n",
    "# Print the mean\n",
    "print(mean)\n"
   ]
  },
  {
   "cell_type": "markdown",
   "metadata": {},
   "source": [
    "**Data preprocessing:** The np.mean() function can be used to normalize feature data before training a machine learning model. This can help to improve the performance of the model.\n",
    "\n",
    "**Model training:** The np.mean() function can be used to calculate the loss of a machine learning model during training. The loss is a measure of how well the model is performing on the training data.\n",
    "\n",
    "**Model evaluation:** The np.mean() function can be used to calc"
   ]
  },
  {
   "cell_type": "markdown",
   "metadata": {},
   "source": [
    "**np.std():** Calculates the standard deviation of the elements in a NumPy array."
   ]
  },
  {
   "cell_type": "code",
   "execution_count": 26,
   "metadata": {},
   "outputs": [
    {
     "name": "stdout",
     "output_type": "stream",
     "text": [
      "1.4142135623730951\n"
     ]
    }
   ],
   "source": [
    "import numpy as np\n",
    "\n",
    "# Create a NumPy array\n",
    "array = np.array([1, 2, 3, 4, 5])\n",
    "\n",
    "# Calculate the standard deviation of the elements in the array\n",
    "standard_deviation = np.std(array)\n",
    "\n",
    "# Print the standard deviation\n",
    "print(standard_deviation)\n"
   ]
  },
  {
   "cell_type": "code",
   "execution_count": 27,
   "metadata": {},
   "outputs": [
    {
     "name": "stdout",
     "output_type": "stream",
     "text": [
      "[1. 1.]\n"
     ]
    }
   ],
   "source": [
    "import numpy as np\n",
    "\n",
    "# Create a NumPy array\n",
    "array = np.array([[1, 2], [3, 4]])\n",
    "\n",
    "# Calculate the standard deviation of the elements in the first axis of the array\n",
    "standard_deviation = np.std(array, axis=0)\n",
    "\n",
    "# Print the standard deviation\n",
    "print(standard_deviation)\n"
   ]
  },
  {
   "cell_type": "markdown",
   "metadata": {},
   "source": [
    "**Data preprocessing:** The np.std() function can be used to scale feature data before training a machine learning model. This can help to improve the performance of the model.\n",
    "\n",
    "**Model training:** The np.std() function can be used to calculate the regularization loss of a machine learning model during training. The regularization loss is a penalty that is added to the loss of the model to prevent it from overfitting to the training data.\n",
    "\n",
    "**Model evaluation:** The np.std() function can be used to calculate the uncertainty of a machine learning model on the test data. The uncertainty is a measure of how confident the model is in its predictions."
   ]
  },
  {
   "cell_type": "markdown",
   "metadata": {},
   "source": [
    "# Linear algebra: \n",
    "NumPy provides a number of functions for performing linear algebra operations on arrays. These operations are essential for many machine learning algorithms, such as linear regression, logistic regression, and support vector machines."
   ]
  },
  {
   "cell_type": "markdown",
   "metadata": {},
   "source": [
    "**Vector multiplication:** Vector multiplication is used to calculate the dot product of two vectors. The dot product is a measure of the similarity between two vectors.\n",
    "\n",
    "**Matrix multiplication:** Matrix multiplication is used to multiply two matrices together. This operation is used to perform a variety of tasks, such as transforming data and calculating predictions.\n",
    "\n",
    "**Matrix inversion:** Matrix inversion is used to find the inverse of a matrix. The inverse of a matrix is useful for solving systems of linear equations.\n",
    "\n",
    "**Eigenvalue decomposition:** Eigenvalue decomposition is used to decompose a matrix into its eigenvalues and eigenvectors. Eigenvalues and eigenvectors are useful for dimensionality reduction and data visualization."
   ]
  },
  {
   "cell_type": "markdown",
   "metadata": {},
   "source": [
    "**matrix multiplication:**"
   ]
  },
  {
   "cell_type": "code",
   "execution_count": 28,
   "metadata": {},
   "outputs": [
    {
     "name": "stdout",
     "output_type": "stream",
     "text": [
      "[[19 22]\n",
      " [43 50]]\n"
     ]
    }
   ],
   "source": [
    "import numpy as np\n",
    "\n",
    "# Create two NumPy arrays\n",
    "matrix1 = np.array([[1, 2], [3, 4]])\n",
    "matrix2 = np.array([[5, 6], [7, 8]])\n",
    "\n",
    "# Multiply the two matrices together\n",
    "product_matrix = np.dot(matrix1, matrix2)\n",
    "\n",
    "# Print the product matrix\n",
    "print(product_matrix)\n"
   ]
  },
  {
   "cell_type": "markdown",
   "metadata": {},
   "source": [
    "**vector multiplication**"
   ]
  },
  {
   "cell_type": "code",
   "execution_count": 29,
   "metadata": {},
   "outputs": [
    {
     "name": "stdout",
     "output_type": "stream",
     "text": [
      "32\n"
     ]
    }
   ],
   "source": [
    "import numpy as np\n",
    "\n",
    "# Create two NumPy arrays\n",
    "vector1 = np.array([1, 2, 3])\n",
    "vector2 = np.array([4, 5, 6])\n",
    "\n",
    "# Calculate the dot product of the two vectors\n",
    "dot_product = np.dot(vector1, vector2)\n",
    "\n",
    "# Print the dot product\n",
    "print(dot_product)\n"
   ]
  },
  {
   "cell_type": "markdown",
   "metadata": {},
   "source": [
    "**Matrix inversion** is the process of finding the inverse of a matrix. The inverse of a matrix is a matrix that satisfies the following equation:\n",
    "\n",
    "**A * A^-1 = I**\n",
    "\n",
    "where A is the original matrix and A^-1 is the inverse matrix. I is the identity matrix, which is a square matrix with 1s on the diagonal and 0s elsewhere.\n",
    "\n",
    "Matrix inversion is useful for a variety of tasks, including solving systems of linear equations. A system of linear equations is a set of equations that can be expressed in the following form:\n",
    "\n",
    "\n",
    "**Ax = b**\n",
    "\n",
    "where A is a matrix, x is a vector of unknowns, and b is a vector of known values. To solve the system of linear equations, we can multiply both sides of the equation by A^-1:\n",
    "\n",
    "**A^-1 * Ax = A^-1 * b**\n",
    "\n",
    "This gives us the following equation:\n",
    "\n",
    "**x = A^-1 * b**\n",
    "\n",
    "Thus, to solve the system of linear equations, we can simply multiply the vector of known values by the inverse of the matrix.\n",
    "\n",
    "Matrix inversion can also be used to perform other tasks, such as finding the least squares solution to a linear system and calculating the determinant of a matrix."
   ]
  },
  {
   "attachments": {
    "inverse-matrix-3.jpg": {
     "image/jpeg": "[encoded data removed]"
    }
   },
   "cell_type": "markdown",
   "metadata": {},
   "source": [
    "![inverse-matrix-3.jpg](attachment:inverse-matrix-3.jpg)\n"
   ]
  },
  {
   "cell_type": "code",
   "execution_count": 30,
   "metadata": {},
   "outputs": [
    {
     "name": "stdout",
     "output_type": "stream",
     "text": [
      "[[-2.   1. ]\n",
      " [ 1.5 -0.5]]\n"
     ]
    }
   ],
   "source": [
    "import numpy as np\n",
    "\n",
    "# Create a NumPy array\n",
    "matrix = np.array([[1, 2], [3, 4]])\n",
    "\n",
    "# Invert the matrix\n",
    "inverse_matrix = np.linalg.inv(matrix)\n",
    "\n",
    "# Print the inverse matrix\n",
    "print(inverse_matrix)\n"
   ]
  }
 ],
 "metadata": {
  "kernelspec": {
   "display_name": "Python 3",
   "language": "python",
   "name": "python3"
  },
  "language_info": {
   "codemirror_mode": {
    "name": "ipython",
    "version": 3
   },
   "file_extension": ".py",
   "mimetype": "text/x-python",
   "name": "python",
   "nbconvert_exporter": "python",
   "pygments_lexer": "ipython3",
   "version": "3.12.0"
  }
 },
 "nbformat": 4,
 "nbformat_minor": 2
}
